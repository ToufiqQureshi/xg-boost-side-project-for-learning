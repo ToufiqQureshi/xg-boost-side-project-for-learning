{
 "cells": [
  {
   "cell_type": "code",
   "execution_count": 10,
   "metadata": {},
   "outputs": [],
   "source": [
    "import pandas as pd \n",
    "import numpy as np\n",
    "import matplotlib.pyplot as plt\n",
    "import seaborn as sns\n",
    "import warnings\n",
    "warnings.filterwarnings('ignore')"
   ]
  },
  {
   "cell_type": "code",
   "execution_count": 11,
   "metadata": {},
   "outputs": [],
   "source": [
    "df = pd.read_csv('Algerian_cleaned_data.csv')"
   ]
  },
  {
   "cell_type": "code",
   "execution_count": 12,
   "metadata": {},
   "outputs": [
    {
     "data": {
      "text/html": [
       "<div>\n",
       "<style scoped>\n",
       "    .dataframe tbody tr th:only-of-type {\n",
       "        vertical-align: middle;\n",
       "    }\n",
       "\n",
       "    .dataframe tbody tr th {\n",
       "        vertical-align: top;\n",
       "    }\n",
       "\n",
       "    .dataframe thead th {\n",
       "        text-align: right;\n",
       "    }\n",
       "</style>\n",
       "<table border=\"1\" class=\"dataframe\">\n",
       "  <thead>\n",
       "    <tr style=\"text-align: right;\">\n",
       "      <th></th>\n",
       "      <th>day</th>\n",
       "      <th>month</th>\n",
       "      <th>year</th>\n",
       "      <th>Temperature</th>\n",
       "      <th>RH</th>\n",
       "      <th>Ws</th>\n",
       "      <th>Rain</th>\n",
       "      <th>FFMC</th>\n",
       "      <th>DMC</th>\n",
       "      <th>DC</th>\n",
       "      <th>ISI</th>\n",
       "      <th>BUI</th>\n",
       "      <th>FWI</th>\n",
       "      <th>Classes</th>\n",
       "    </tr>\n",
       "  </thead>\n",
       "  <tbody>\n",
       "    <tr>\n",
       "      <th>0</th>\n",
       "      <td>1</td>\n",
       "      <td>6</td>\n",
       "      <td>2012</td>\n",
       "      <td>32</td>\n",
       "      <td>71</td>\n",
       "      <td>12</td>\n",
       "      <td>0.7</td>\n",
       "      <td>57.1</td>\n",
       "      <td>2.5</td>\n",
       "      <td>8.2</td>\n",
       "      <td>0.6</td>\n",
       "      <td>2.8</td>\n",
       "      <td>0.2</td>\n",
       "      <td>not fire</td>\n",
       "    </tr>\n",
       "    <tr>\n",
       "      <th>1</th>\n",
       "      <td>2</td>\n",
       "      <td>6</td>\n",
       "      <td>2012</td>\n",
       "      <td>30</td>\n",
       "      <td>73</td>\n",
       "      <td>13</td>\n",
       "      <td>4.0</td>\n",
       "      <td>55.7</td>\n",
       "      <td>2.7</td>\n",
       "      <td>7.8</td>\n",
       "      <td>0.6</td>\n",
       "      <td>2.9</td>\n",
       "      <td>0.2</td>\n",
       "      <td>not fire</td>\n",
       "    </tr>\n",
       "    <tr>\n",
       "      <th>2</th>\n",
       "      <td>3</td>\n",
       "      <td>6</td>\n",
       "      <td>2012</td>\n",
       "      <td>29</td>\n",
       "      <td>80</td>\n",
       "      <td>14</td>\n",
       "      <td>2.0</td>\n",
       "      <td>48.7</td>\n",
       "      <td>2.2</td>\n",
       "      <td>7.6</td>\n",
       "      <td>0.3</td>\n",
       "      <td>2.6</td>\n",
       "      <td>0.1</td>\n",
       "      <td>not fire</td>\n",
       "    </tr>\n",
       "    <tr>\n",
       "      <th>3</th>\n",
       "      <td>4</td>\n",
       "      <td>6</td>\n",
       "      <td>2012</td>\n",
       "      <td>30</td>\n",
       "      <td>64</td>\n",
       "      <td>14</td>\n",
       "      <td>0.0</td>\n",
       "      <td>79.4</td>\n",
       "      <td>5.2</td>\n",
       "      <td>15.4</td>\n",
       "      <td>2.2</td>\n",
       "      <td>5.6</td>\n",
       "      <td>1.0</td>\n",
       "      <td>not fire</td>\n",
       "    </tr>\n",
       "    <tr>\n",
       "      <th>4</th>\n",
       "      <td>5</td>\n",
       "      <td>6</td>\n",
       "      <td>2012</td>\n",
       "      <td>32</td>\n",
       "      <td>60</td>\n",
       "      <td>14</td>\n",
       "      <td>0.2</td>\n",
       "      <td>77.1</td>\n",
       "      <td>6.0</td>\n",
       "      <td>17.6</td>\n",
       "      <td>1.8</td>\n",
       "      <td>6.5</td>\n",
       "      <td>0.9</td>\n",
       "      <td>not fire</td>\n",
       "    </tr>\n",
       "  </tbody>\n",
       "</table>\n",
       "</div>"
      ],
      "text/plain": [
       "   day  month  year  Temperature  RH  Ws  Rain  FFMC  DMC    DC  ISI  BUI  \\\n",
       "0    1      6  2012           32  71  12   0.7  57.1  2.5   8.2  0.6  2.8   \n",
       "1    2      6  2012           30  73  13   4.0  55.7  2.7   7.8  0.6  2.9   \n",
       "2    3      6  2012           29  80  14   2.0  48.7  2.2   7.6  0.3  2.6   \n",
       "3    4      6  2012           30  64  14   0.0  79.4  5.2  15.4  2.2  5.6   \n",
       "4    5      6  2012           32  60  14   0.2  77.1  6.0  17.6  1.8  6.5   \n",
       "\n",
       "   FWI      Classes  \n",
       "0  0.2  not fire     \n",
       "1  0.2  not fire     \n",
       "2  0.1  not fire     \n",
       "3  1.0  not fire     \n",
       "4  0.9  not fire     "
      ]
     },
     "execution_count": 12,
     "metadata": {},
     "output_type": "execute_result"
    }
   ],
   "source": [
    "df.head()"
   ]
  },
  {
   "cell_type": "code",
   "execution_count": 13,
   "metadata": {},
   "outputs": [],
   "source": [
    "df.drop(['day','month','year'],axis=1,inplace=True)"
   ]
  },
  {
   "cell_type": "code",
   "execution_count": 14,
   "metadata": {},
   "outputs": [
    {
     "data": {
      "text/html": [
       "<div>\n",
       "<style scoped>\n",
       "    .dataframe tbody tr th:only-of-type {\n",
       "        vertical-align: middle;\n",
       "    }\n",
       "\n",
       "    .dataframe tbody tr th {\n",
       "        vertical-align: top;\n",
       "    }\n",
       "\n",
       "    .dataframe thead th {\n",
       "        text-align: right;\n",
       "    }\n",
       "</style>\n",
       "<table border=\"1\" class=\"dataframe\">\n",
       "  <thead>\n",
       "    <tr style=\"text-align: right;\">\n",
       "      <th></th>\n",
       "      <th>Temperature</th>\n",
       "      <th>RH</th>\n",
       "      <th>Ws</th>\n",
       "      <th>Rain</th>\n",
       "      <th>FFMC</th>\n",
       "      <th>DMC</th>\n",
       "      <th>DC</th>\n",
       "      <th>ISI</th>\n",
       "      <th>BUI</th>\n",
       "      <th>FWI</th>\n",
       "      <th>Classes</th>\n",
       "    </tr>\n",
       "  </thead>\n",
       "  <tbody>\n",
       "    <tr>\n",
       "      <th>0</th>\n",
       "      <td>32</td>\n",
       "      <td>71</td>\n",
       "      <td>12</td>\n",
       "      <td>0.7</td>\n",
       "      <td>57.1</td>\n",
       "      <td>2.5</td>\n",
       "      <td>8.2</td>\n",
       "      <td>0.6</td>\n",
       "      <td>2.8</td>\n",
       "      <td>0.2</td>\n",
       "      <td>not fire</td>\n",
       "    </tr>\n",
       "    <tr>\n",
       "      <th>1</th>\n",
       "      <td>30</td>\n",
       "      <td>73</td>\n",
       "      <td>13</td>\n",
       "      <td>4.0</td>\n",
       "      <td>55.7</td>\n",
       "      <td>2.7</td>\n",
       "      <td>7.8</td>\n",
       "      <td>0.6</td>\n",
       "      <td>2.9</td>\n",
       "      <td>0.2</td>\n",
       "      <td>not fire</td>\n",
       "    </tr>\n",
       "    <tr>\n",
       "      <th>2</th>\n",
       "      <td>29</td>\n",
       "      <td>80</td>\n",
       "      <td>14</td>\n",
       "      <td>2.0</td>\n",
       "      <td>48.7</td>\n",
       "      <td>2.2</td>\n",
       "      <td>7.6</td>\n",
       "      <td>0.3</td>\n",
       "      <td>2.6</td>\n",
       "      <td>0.1</td>\n",
       "      <td>not fire</td>\n",
       "    </tr>\n",
       "    <tr>\n",
       "      <th>3</th>\n",
       "      <td>30</td>\n",
       "      <td>64</td>\n",
       "      <td>14</td>\n",
       "      <td>0.0</td>\n",
       "      <td>79.4</td>\n",
       "      <td>5.2</td>\n",
       "      <td>15.4</td>\n",
       "      <td>2.2</td>\n",
       "      <td>5.6</td>\n",
       "      <td>1.0</td>\n",
       "      <td>not fire</td>\n",
       "    </tr>\n",
       "    <tr>\n",
       "      <th>4</th>\n",
       "      <td>32</td>\n",
       "      <td>60</td>\n",
       "      <td>14</td>\n",
       "      <td>0.2</td>\n",
       "      <td>77.1</td>\n",
       "      <td>6.0</td>\n",
       "      <td>17.6</td>\n",
       "      <td>1.8</td>\n",
       "      <td>6.5</td>\n",
       "      <td>0.9</td>\n",
       "      <td>not fire</td>\n",
       "    </tr>\n",
       "  </tbody>\n",
       "</table>\n",
       "</div>"
      ],
      "text/plain": [
       "   Temperature  RH  Ws  Rain  FFMC  DMC    DC  ISI  BUI  FWI      Classes\n",
       "0           32  71  12   0.7  57.1  2.5   8.2  0.6  2.8  0.2  not fire   \n",
       "1           30  73  13   4.0  55.7  2.7   7.8  0.6  2.9  0.2  not fire   \n",
       "2           29  80  14   2.0  48.7  2.2   7.6  0.3  2.6  0.1  not fire   \n",
       "3           30  64  14   0.0  79.4  5.2  15.4  2.2  5.6  1.0  not fire   \n",
       "4           32  60  14   0.2  77.1  6.0  17.6  1.8  6.5  0.9  not fire   "
      ]
     },
     "execution_count": 14,
     "metadata": {},
     "output_type": "execute_result"
    }
   ],
   "source": [
    "df.head()"
   ]
  },
  {
   "cell_type": "code",
   "execution_count": 15,
   "metadata": {},
   "outputs": [
    {
     "data": {
      "text/plain": [
       "Classes\n",
       "fire             78\n",
       "not fire         41\n",
       "not fire          1\n",
       "not fire          1\n",
       "Name: count, dtype: int64"
      ]
     },
     "execution_count": 15,
     "metadata": {},
     "output_type": "execute_result"
    }
   ],
   "source": [
    "df['Classes'].value_counts()"
   ]
  },
  {
   "cell_type": "code",
   "execution_count": 16,
   "metadata": {},
   "outputs": [],
   "source": [
    "df['Classes'] = np.where(df['Classes'].str.contains('not fire'),0,1)\n"
   ]
  },
  {
   "cell_type": "code",
   "execution_count": 17,
   "metadata": {},
   "outputs": [
    {
     "data": {
      "text/html": [
       "<div>\n",
       "<style scoped>\n",
       "    .dataframe tbody tr th:only-of-type {\n",
       "        vertical-align: middle;\n",
       "    }\n",
       "\n",
       "    .dataframe tbody tr th {\n",
       "        vertical-align: top;\n",
       "    }\n",
       "\n",
       "    .dataframe thead th {\n",
       "        text-align: right;\n",
       "    }\n",
       "</style>\n",
       "<table border=\"1\" class=\"dataframe\">\n",
       "  <thead>\n",
       "    <tr style=\"text-align: right;\">\n",
       "      <th></th>\n",
       "      <th>Temperature</th>\n",
       "      <th>RH</th>\n",
       "      <th>Ws</th>\n",
       "      <th>Rain</th>\n",
       "      <th>FFMC</th>\n",
       "      <th>DMC</th>\n",
       "      <th>DC</th>\n",
       "      <th>ISI</th>\n",
       "      <th>BUI</th>\n",
       "      <th>FWI</th>\n",
       "      <th>Classes</th>\n",
       "    </tr>\n",
       "  </thead>\n",
       "  <tbody>\n",
       "    <tr>\n",
       "      <th>0</th>\n",
       "      <td>32</td>\n",
       "      <td>71</td>\n",
       "      <td>12</td>\n",
       "      <td>0.7</td>\n",
       "      <td>57.1</td>\n",
       "      <td>2.5</td>\n",
       "      <td>8.2</td>\n",
       "      <td>0.6</td>\n",
       "      <td>2.8</td>\n",
       "      <td>0.2</td>\n",
       "      <td>0</td>\n",
       "    </tr>\n",
       "    <tr>\n",
       "      <th>1</th>\n",
       "      <td>30</td>\n",
       "      <td>73</td>\n",
       "      <td>13</td>\n",
       "      <td>4.0</td>\n",
       "      <td>55.7</td>\n",
       "      <td>2.7</td>\n",
       "      <td>7.8</td>\n",
       "      <td>0.6</td>\n",
       "      <td>2.9</td>\n",
       "      <td>0.2</td>\n",
       "      <td>0</td>\n",
       "    </tr>\n",
       "    <tr>\n",
       "      <th>2</th>\n",
       "      <td>29</td>\n",
       "      <td>80</td>\n",
       "      <td>14</td>\n",
       "      <td>2.0</td>\n",
       "      <td>48.7</td>\n",
       "      <td>2.2</td>\n",
       "      <td>7.6</td>\n",
       "      <td>0.3</td>\n",
       "      <td>2.6</td>\n",
       "      <td>0.1</td>\n",
       "      <td>0</td>\n",
       "    </tr>\n",
       "    <tr>\n",
       "      <th>3</th>\n",
       "      <td>30</td>\n",
       "      <td>64</td>\n",
       "      <td>14</td>\n",
       "      <td>0.0</td>\n",
       "      <td>79.4</td>\n",
       "      <td>5.2</td>\n",
       "      <td>15.4</td>\n",
       "      <td>2.2</td>\n",
       "      <td>5.6</td>\n",
       "      <td>1.0</td>\n",
       "      <td>0</td>\n",
       "    </tr>\n",
       "    <tr>\n",
       "      <th>4</th>\n",
       "      <td>32</td>\n",
       "      <td>60</td>\n",
       "      <td>14</td>\n",
       "      <td>0.2</td>\n",
       "      <td>77.1</td>\n",
       "      <td>6.0</td>\n",
       "      <td>17.6</td>\n",
       "      <td>1.8</td>\n",
       "      <td>6.5</td>\n",
       "      <td>0.9</td>\n",
       "      <td>0</td>\n",
       "    </tr>\n",
       "  </tbody>\n",
       "</table>\n",
       "</div>"
      ],
      "text/plain": [
       "   Temperature  RH  Ws  Rain  FFMC  DMC    DC  ISI  BUI  FWI  Classes\n",
       "0           32  71  12   0.7  57.1  2.5   8.2  0.6  2.8  0.2        0\n",
       "1           30  73  13   4.0  55.7  2.7   7.8  0.6  2.9  0.2        0\n",
       "2           29  80  14   2.0  48.7  2.2   7.6  0.3  2.6  0.1        0\n",
       "3           30  64  14   0.0  79.4  5.2  15.4  2.2  5.6  1.0        0\n",
       "4           32  60  14   0.2  77.1  6.0  17.6  1.8  6.5  0.9        0"
      ]
     },
     "execution_count": 17,
     "metadata": {},
     "output_type": "execute_result"
    }
   ],
   "source": [
    "df.head()"
   ]
  },
  {
   "cell_type": "code",
   "execution_count": 18,
   "metadata": {},
   "outputs": [
    {
     "data": {
      "text/plain": [
       "Classes\n",
       "1    78\n",
       "0    43\n",
       "Name: count, dtype: int64"
      ]
     },
     "execution_count": 18,
     "metadata": {},
     "output_type": "execute_result"
    }
   ],
   "source": [
    "df['Classes'].value_counts()"
   ]
  },
  {
   "cell_type": "code",
   "execution_count": 19,
   "metadata": {},
   "outputs": [],
   "source": [
    "#indepenendy variables\n",
    "X = df.drop('Classes',axis=1)\n",
    "#dependent variable\n",
    "y = df['Classes']"
   ]
  },
  {
   "cell_type": "code",
   "execution_count": 20,
   "metadata": {},
   "outputs": [
    {
     "data": {
      "text/html": [
       "<div>\n",
       "<style scoped>\n",
       "    .dataframe tbody tr th:only-of-type {\n",
       "        vertical-align: middle;\n",
       "    }\n",
       "\n",
       "    .dataframe tbody tr th {\n",
       "        vertical-align: top;\n",
       "    }\n",
       "\n",
       "    .dataframe thead th {\n",
       "        text-align: right;\n",
       "    }\n",
       "</style>\n",
       "<table border=\"1\" class=\"dataframe\">\n",
       "  <thead>\n",
       "    <tr style=\"text-align: right;\">\n",
       "      <th></th>\n",
       "      <th>Temperature</th>\n",
       "      <th>RH</th>\n",
       "      <th>Ws</th>\n",
       "      <th>Rain</th>\n",
       "      <th>FFMC</th>\n",
       "      <th>DMC</th>\n",
       "      <th>DC</th>\n",
       "      <th>ISI</th>\n",
       "      <th>BUI</th>\n",
       "      <th>FWI</th>\n",
       "    </tr>\n",
       "  </thead>\n",
       "  <tbody>\n",
       "    <tr>\n",
       "      <th>0</th>\n",
       "      <td>32</td>\n",
       "      <td>71</td>\n",
       "      <td>12</td>\n",
       "      <td>0.7</td>\n",
       "      <td>57.1</td>\n",
       "      <td>2.5</td>\n",
       "      <td>8.2</td>\n",
       "      <td>0.6</td>\n",
       "      <td>2.8</td>\n",
       "      <td>0.2</td>\n",
       "    </tr>\n",
       "    <tr>\n",
       "      <th>1</th>\n",
       "      <td>30</td>\n",
       "      <td>73</td>\n",
       "      <td>13</td>\n",
       "      <td>4.0</td>\n",
       "      <td>55.7</td>\n",
       "      <td>2.7</td>\n",
       "      <td>7.8</td>\n",
       "      <td>0.6</td>\n",
       "      <td>2.9</td>\n",
       "      <td>0.2</td>\n",
       "    </tr>\n",
       "    <tr>\n",
       "      <th>2</th>\n",
       "      <td>29</td>\n",
       "      <td>80</td>\n",
       "      <td>14</td>\n",
       "      <td>2.0</td>\n",
       "      <td>48.7</td>\n",
       "      <td>2.2</td>\n",
       "      <td>7.6</td>\n",
       "      <td>0.3</td>\n",
       "      <td>2.6</td>\n",
       "      <td>0.1</td>\n",
       "    </tr>\n",
       "    <tr>\n",
       "      <th>3</th>\n",
       "      <td>30</td>\n",
       "      <td>64</td>\n",
       "      <td>14</td>\n",
       "      <td>0.0</td>\n",
       "      <td>79.4</td>\n",
       "      <td>5.2</td>\n",
       "      <td>15.4</td>\n",
       "      <td>2.2</td>\n",
       "      <td>5.6</td>\n",
       "      <td>1.0</td>\n",
       "    </tr>\n",
       "    <tr>\n",
       "      <th>4</th>\n",
       "      <td>32</td>\n",
       "      <td>60</td>\n",
       "      <td>14</td>\n",
       "      <td>0.2</td>\n",
       "      <td>77.1</td>\n",
       "      <td>6.0</td>\n",
       "      <td>17.6</td>\n",
       "      <td>1.8</td>\n",
       "      <td>6.5</td>\n",
       "      <td>0.9</td>\n",
       "    </tr>\n",
       "    <tr>\n",
       "      <th>...</th>\n",
       "      <td>...</td>\n",
       "      <td>...</td>\n",
       "      <td>...</td>\n",
       "      <td>...</td>\n",
       "      <td>...</td>\n",
       "      <td>...</td>\n",
       "      <td>...</td>\n",
       "      <td>...</td>\n",
       "      <td>...</td>\n",
       "      <td>...</td>\n",
       "    </tr>\n",
       "    <tr>\n",
       "      <th>116</th>\n",
       "      <td>30</td>\n",
       "      <td>65</td>\n",
       "      <td>14</td>\n",
       "      <td>0.0</td>\n",
       "      <td>85.4</td>\n",
       "      <td>16.0</td>\n",
       "      <td>44.5</td>\n",
       "      <td>4.5</td>\n",
       "      <td>16.9</td>\n",
       "      <td>6.5</td>\n",
       "    </tr>\n",
       "    <tr>\n",
       "      <th>117</th>\n",
       "      <td>28</td>\n",
       "      <td>87</td>\n",
       "      <td>15</td>\n",
       "      <td>4.4</td>\n",
       "      <td>41.1</td>\n",
       "      <td>6.5</td>\n",
       "      <td>8.0</td>\n",
       "      <td>0.1</td>\n",
       "      <td>6.2</td>\n",
       "      <td>0.0</td>\n",
       "    </tr>\n",
       "    <tr>\n",
       "      <th>118</th>\n",
       "      <td>27</td>\n",
       "      <td>87</td>\n",
       "      <td>29</td>\n",
       "      <td>0.5</td>\n",
       "      <td>45.9</td>\n",
       "      <td>3.5</td>\n",
       "      <td>7.9</td>\n",
       "      <td>0.4</td>\n",
       "      <td>3.4</td>\n",
       "      <td>0.2</td>\n",
       "    </tr>\n",
       "    <tr>\n",
       "      <th>119</th>\n",
       "      <td>24</td>\n",
       "      <td>54</td>\n",
       "      <td>18</td>\n",
       "      <td>0.1</td>\n",
       "      <td>79.7</td>\n",
       "      <td>4.3</td>\n",
       "      <td>15.2</td>\n",
       "      <td>1.7</td>\n",
       "      <td>5.1</td>\n",
       "      <td>0.7</td>\n",
       "    </tr>\n",
       "    <tr>\n",
       "      <th>120</th>\n",
       "      <td>24</td>\n",
       "      <td>64</td>\n",
       "      <td>15</td>\n",
       "      <td>0.2</td>\n",
       "      <td>67.3</td>\n",
       "      <td>3.8</td>\n",
       "      <td>16.5</td>\n",
       "      <td>1.2</td>\n",
       "      <td>4.8</td>\n",
       "      <td>0.5</td>\n",
       "    </tr>\n",
       "  </tbody>\n",
       "</table>\n",
       "<p>121 rows × 10 columns</p>\n",
       "</div>"
      ],
      "text/plain": [
       "     Temperature  RH  Ws  Rain  FFMC   DMC    DC  ISI   BUI  FWI\n",
       "0             32  71  12   0.7  57.1   2.5   8.2  0.6   2.8  0.2\n",
       "1             30  73  13   4.0  55.7   2.7   7.8  0.6   2.9  0.2\n",
       "2             29  80  14   2.0  48.7   2.2   7.6  0.3   2.6  0.1\n",
       "3             30  64  14   0.0  79.4   5.2  15.4  2.2   5.6  1.0\n",
       "4             32  60  14   0.2  77.1   6.0  17.6  1.8   6.5  0.9\n",
       "..           ...  ..  ..   ...   ...   ...   ...  ...   ...  ...\n",
       "116           30  65  14   0.0  85.4  16.0  44.5  4.5  16.9  6.5\n",
       "117           28  87  15   4.4  41.1   6.5   8.0  0.1   6.2  0.0\n",
       "118           27  87  29   0.5  45.9   3.5   7.9  0.4   3.4  0.2\n",
       "119           24  54  18   0.1  79.7   4.3  15.2  1.7   5.1  0.7\n",
       "120           24  64  15   0.2  67.3   3.8  16.5  1.2   4.8  0.5\n",
       "\n",
       "[121 rows x 10 columns]"
      ]
     },
     "execution_count": 20,
     "metadata": {},
     "output_type": "execute_result"
    }
   ],
   "source": [
    "X"
   ]
  },
  {
   "cell_type": "code",
   "execution_count": 21,
   "metadata": {},
   "outputs": [
    {
     "data": {
      "text/plain": [
       "0      0\n",
       "1      0\n",
       "2      0\n",
       "3      0\n",
       "4      0\n",
       "      ..\n",
       "116    1\n",
       "117    0\n",
       "118    0\n",
       "119    0\n",
       "120    0\n",
       "Name: Classes, Length: 121, dtype: int32"
      ]
     },
     "execution_count": 21,
     "metadata": {},
     "output_type": "execute_result"
    }
   ],
   "source": [
    "y"
   ]
  },
  {
   "cell_type": "code",
   "execution_count": 22,
   "metadata": {},
   "outputs": [],
   "source": [
    "#train test split\n",
    "\n",
    "from sklearn.model_selection import train_test_split\n",
    "X_train,X_test,y_train,y_test = train_test_split(X,y,test_size=0.25,random_state=42)"
   ]
  },
  {
   "cell_type": "code",
   "execution_count": 23,
   "metadata": {},
   "outputs": [
    {
     "data": {
      "text/html": [
       "<div>\n",
       "<style scoped>\n",
       "    .dataframe tbody tr th:only-of-type {\n",
       "        vertical-align: middle;\n",
       "    }\n",
       "\n",
       "    .dataframe tbody tr th {\n",
       "        vertical-align: top;\n",
       "    }\n",
       "\n",
       "    .dataframe thead th {\n",
       "        text-align: right;\n",
       "    }\n",
       "</style>\n",
       "<table border=\"1\" class=\"dataframe\">\n",
       "  <thead>\n",
       "    <tr style=\"text-align: right;\">\n",
       "      <th></th>\n",
       "      <th>Temperature</th>\n",
       "      <th>RH</th>\n",
       "      <th>Ws</th>\n",
       "      <th>Rain</th>\n",
       "      <th>FFMC</th>\n",
       "      <th>DMC</th>\n",
       "      <th>DC</th>\n",
       "      <th>ISI</th>\n",
       "      <th>BUI</th>\n",
       "      <th>FWI</th>\n",
       "    </tr>\n",
       "  </thead>\n",
       "  <tbody>\n",
       "    <tr>\n",
       "      <th>Temperature</th>\n",
       "      <td>1.000000</td>\n",
       "      <td>-0.516221</td>\n",
       "      <td>-0.148683</td>\n",
       "      <td>-0.135914</td>\n",
       "      <td>0.587525</td>\n",
       "      <td>0.404227</td>\n",
       "      <td>0.331249</td>\n",
       "      <td>0.529565</td>\n",
       "      <td>0.391978</td>\n",
       "      <td>0.487601</td>\n",
       "    </tr>\n",
       "    <tr>\n",
       "      <th>RH</th>\n",
       "      <td>-0.516221</td>\n",
       "      <td>1.000000</td>\n",
       "      <td>0.014511</td>\n",
       "      <td>0.195940</td>\n",
       "      <td>-0.673630</td>\n",
       "      <td>-0.369996</td>\n",
       "      <td>-0.274098</td>\n",
       "      <td>-0.701824</td>\n",
       "      <td>-0.356503</td>\n",
       "      <td>-0.596763</td>\n",
       "    </tr>\n",
       "    <tr>\n",
       "      <th>Ws</th>\n",
       "      <td>-0.148683</td>\n",
       "      <td>0.014511</td>\n",
       "      <td>1.000000</td>\n",
       "      <td>-0.139414</td>\n",
       "      <td>0.098500</td>\n",
       "      <td>0.089629</td>\n",
       "      <td>0.069449</td>\n",
       "      <td>0.199996</td>\n",
       "      <td>0.087771</td>\n",
       "      <td>0.180650</td>\n",
       "    </tr>\n",
       "    <tr>\n",
       "      <th>Rain</th>\n",
       "      <td>-0.135914</td>\n",
       "      <td>0.195940</td>\n",
       "      <td>-0.139414</td>\n",
       "      <td>1.000000</td>\n",
       "      <td>-0.532790</td>\n",
       "      <td>-0.344343</td>\n",
       "      <td>-0.349494</td>\n",
       "      <td>-0.419341</td>\n",
       "      <td>-0.354044</td>\n",
       "      <td>-0.400974</td>\n",
       "    </tr>\n",
       "    <tr>\n",
       "      <th>FFMC</th>\n",
       "      <td>0.587525</td>\n",
       "      <td>-0.673630</td>\n",
       "      <td>0.098500</td>\n",
       "      <td>-0.532790</td>\n",
       "      <td>1.000000</td>\n",
       "      <td>0.570826</td>\n",
       "      <td>0.491637</td>\n",
       "      <td>0.767946</td>\n",
       "      <td>0.570128</td>\n",
       "      <td>0.710486</td>\n",
       "    </tr>\n",
       "    <tr>\n",
       "      <th>DMC</th>\n",
       "      <td>0.404227</td>\n",
       "      <td>-0.369996</td>\n",
       "      <td>0.089629</td>\n",
       "      <td>-0.344343</td>\n",
       "      <td>0.570826</td>\n",
       "      <td>1.000000</td>\n",
       "      <td>0.919766</td>\n",
       "      <td>0.652202</td>\n",
       "      <td>0.992267</td>\n",
       "      <td>0.864053</td>\n",
       "    </tr>\n",
       "    <tr>\n",
       "      <th>DC</th>\n",
       "      <td>0.331249</td>\n",
       "      <td>-0.274098</td>\n",
       "      <td>0.069449</td>\n",
       "      <td>-0.349494</td>\n",
       "      <td>0.491637</td>\n",
       "      <td>0.919766</td>\n",
       "      <td>1.000000</td>\n",
       "      <td>0.511397</td>\n",
       "      <td>0.941726</td>\n",
       "      <td>0.741057</td>\n",
       "    </tr>\n",
       "    <tr>\n",
       "      <th>ISI</th>\n",
       "      <td>0.529565</td>\n",
       "      <td>-0.701824</td>\n",
       "      <td>0.199996</td>\n",
       "      <td>-0.419341</td>\n",
       "      <td>0.767946</td>\n",
       "      <td>0.652202</td>\n",
       "      <td>0.511397</td>\n",
       "      <td>1.000000</td>\n",
       "      <td>0.640169</td>\n",
       "      <td>0.934366</td>\n",
       "    </tr>\n",
       "    <tr>\n",
       "      <th>BUI</th>\n",
       "      <td>0.391978</td>\n",
       "      <td>-0.356503</td>\n",
       "      <td>0.087771</td>\n",
       "      <td>-0.354044</td>\n",
       "      <td>0.570128</td>\n",
       "      <td>0.992267</td>\n",
       "      <td>0.941726</td>\n",
       "      <td>0.640169</td>\n",
       "      <td>1.000000</td>\n",
       "      <td>0.858091</td>\n",
       "    </tr>\n",
       "    <tr>\n",
       "      <th>FWI</th>\n",
       "      <td>0.487601</td>\n",
       "      <td>-0.596763</td>\n",
       "      <td>0.180650</td>\n",
       "      <td>-0.400974</td>\n",
       "      <td>0.710486</td>\n",
       "      <td>0.864053</td>\n",
       "      <td>0.741057</td>\n",
       "      <td>0.934366</td>\n",
       "      <td>0.858091</td>\n",
       "      <td>1.000000</td>\n",
       "    </tr>\n",
       "  </tbody>\n",
       "</table>\n",
       "</div>"
      ],
      "text/plain": [
       "             Temperature        RH        Ws      Rain      FFMC       DMC  \\\n",
       "Temperature     1.000000 -0.516221 -0.148683 -0.135914  0.587525  0.404227   \n",
       "RH             -0.516221  1.000000  0.014511  0.195940 -0.673630 -0.369996   \n",
       "Ws             -0.148683  0.014511  1.000000 -0.139414  0.098500  0.089629   \n",
       "Rain           -0.135914  0.195940 -0.139414  1.000000 -0.532790 -0.344343   \n",
       "FFMC            0.587525 -0.673630  0.098500 -0.532790  1.000000  0.570826   \n",
       "DMC             0.404227 -0.369996  0.089629 -0.344343  0.570826  1.000000   \n",
       "DC              0.331249 -0.274098  0.069449 -0.349494  0.491637  0.919766   \n",
       "ISI             0.529565 -0.701824  0.199996 -0.419341  0.767946  0.652202   \n",
       "BUI             0.391978 -0.356503  0.087771 -0.354044  0.570128  0.992267   \n",
       "FWI             0.487601 -0.596763  0.180650 -0.400974  0.710486  0.864053   \n",
       "\n",
       "                   DC       ISI       BUI       FWI  \n",
       "Temperature  0.331249  0.529565  0.391978  0.487601  \n",
       "RH          -0.274098 -0.701824 -0.356503 -0.596763  \n",
       "Ws           0.069449  0.199996  0.087771  0.180650  \n",
       "Rain        -0.349494 -0.419341 -0.354044 -0.400974  \n",
       "FFMC         0.491637  0.767946  0.570128  0.710486  \n",
       "DMC          0.919766  0.652202  0.992267  0.864053  \n",
       "DC           1.000000  0.511397  0.941726  0.741057  \n",
       "ISI          0.511397  1.000000  0.640169  0.934366  \n",
       "BUI          0.941726  0.640169  1.000000  0.858091  \n",
       "FWI          0.741057  0.934366  0.858091  1.000000  "
      ]
     },
     "execution_count": 23,
     "metadata": {},
     "output_type": "execute_result"
    }
   ],
   "source": [
    "X_train.corr() #MULTICOLLINEARITY CHECKED"
   ]
  },
  {
   "cell_type": "code",
   "execution_count": 24,
   "metadata": {},
   "outputs": [
    {
     "data": {
      "text/plain": [
       "<Axes: >"
      ]
     },
     "execution_count": 24,
     "metadata": {},
     "output_type": "execute_result"
    },
    {
     "data": {
      "image/png": "[encoded data removed]",
      "text/plain": [
       "<Figure size 640x480 with 2 Axes>"
      ]
     },
     "metadata": {},
     "output_type": "display_data"
    }
   ],
   "source": [
    "plt.Figure(figsize=(12,6))\n",
    "corr = X_train.corr()\n",
    "sns.heatmap(corr,annot=True)"
   ]
  },
  {
   "cell_type": "code",
   "execution_count": 25,
   "metadata": {},
   "outputs": [],
   "source": [
    "def correlation(dataset, threshold):\n",
    "    col_corr = set()  # Set of all the names of deleted columns\n",
    "    corr_matrix = dataset.corr()\n",
    "    for i in range(len(corr_matrix.columns)):\n",
    "        for j in range(i):\n",
    "            if abs(corr_matrix.iloc[i, j]) > threshold: # we are interested in absolute coeff value\n",
    "                colname = corr_matrix.columns[j]\n",
    "                col_corr.add(colname)\n",
    "    return col_corr"
   ]
  },
  {
   "cell_type": "code",
   "execution_count": 26,
   "metadata": {},
   "outputs": [],
   "source": [
    "corr_features = correlation(X_train,0.85)# threashold = 0.85\n"
   ]
  },
  {
   "cell_type": "code",
   "execution_count": 27,
   "metadata": {},
   "outputs": [
    {
     "data": {
      "text/plain": [
       "{'BUI', 'DC', 'DMC', 'ISI'}"
      ]
     },
     "execution_count": 27,
     "metadata": {},
     "output_type": "execute_result"
    }
   ],
   "source": [
    "corr_features"
   ]
  },
  {
   "cell_type": "code",
   "execution_count": 28,
   "metadata": {},
   "outputs": [
    {
     "data": {
      "text/plain": [
       "((90, 6), (31, 6))"
      ]
     },
     "execution_count": 28,
     "metadata": {},
     "output_type": "execute_result"
    }
   ],
   "source": [
    "X_train.drop(corr_features,axis=1,inplace=True)\n",
    "X_test.drop(corr_features,axis=1,inplace=True)\n",
    "X_train.shape,X_test.shape"
   ]
  },
  {
   "cell_type": "code",
   "execution_count": 29,
   "metadata": {},
   "outputs": [],
   "source": [
    "from sklearn.preprocessing import StandardScaler\n",
    "scaler= StandardScaler()\n",
    "X_train_scaled = scaler.fit_transform(X_train)\n",
    "X_test_scaled = scaler.transform(X_test)"
   ]
  },
  {
   "cell_type": "code",
   "execution_count": 30,
   "metadata": {},
   "outputs": [
    {
     "data": {
      "text/plain": [
       "array([[ 0.50670746,  0.74034875,  0.0882538 , -0.4015985 ,  0.14296971,\n",
       "        -0.10092743],\n",
       "       [-0.05284679,  0.25900746,  0.50629812,  0.03612997, -0.55723404,\n",
       "        -0.91915112],\n",
       "       [-0.61240104,  0.46529658,  0.0882538 , -0.46413113,  0.19239585,\n",
       "        -0.63455158],\n",
       "       [-0.05284679,  0.12148137,  0.50629812, -0.46413113,  0.53837888,\n",
       "         0.05323066],\n",
       "       [ 0.50670746, -1.46006859,  0.92434244, -0.46413113,  0.92555037,\n",
       "         1.54737826],\n",
       "       [-1.45173241,  0.19024442,  1.34238676,  0.9115869 , -1.42219162,\n",
       "        -0.95472606],\n",
       "       [ 1.62581595,  0.60282267, -2.42001211,  0.28626052, -0.59018481,\n",
       "        -0.93100944],\n",
       "       [-2.5708409 , -0.08480775,  1.34238676, -0.4015985 , -0.10416103,\n",
       "        -0.93100944],\n",
       "       [-0.89217816, -0.9787273 ,  0.0882538 , -0.46413113,  0.69489502,\n",
       "         0.1718138 ],\n",
       "       [ 0.22693033,  0.19024442,  1.34238676, -0.46413113,  0.57956734,\n",
       "         0.15995548],\n",
       "       [ 0.78648458,  0.46529658,  0.50629812, -0.46413113,  0.56309196,\n",
       "         0.11252223],\n",
       "       [ 1.62581595, -1.11625338,  0.0882538 , -0.33906586,  0.68665733,\n",
       "         0.254822  ],\n",
       "       [ 1.0662617 , -1.32254251, -0.74783484, -0.08893531,  0.4312889 ,\n",
       "        -0.160219  ],\n",
       "       [-0.89217816,  0.67158571, -0.32979052, -0.46413113,  0.36538737,\n",
       "        -0.2432272 ],\n",
       "       [-0.05284679, -1.25377947,  0.50629812, -0.46413113,  0.92555037,\n",
       "         2.57905161],\n",
       "       [ 0.50670746, -0.08480775, -1.58392347, -0.4015985 ,  0.22534662,\n",
       "        -0.64640989],\n",
       "       [-1.17195528,  2.11560959,  0.50629812, -0.46413113, -3.54751595,\n",
       "        -1.01401764],\n",
       "       [ 1.62581595, -0.84120121, -1.16587915, -0.46413113,  0.88436191,\n",
       "         0.49198829],\n",
       "       [ 0.22693033, -0.29109688,  0.50629812,  1.91210911, -0.28539023,\n",
       "        -0.85985955],\n",
       "       [ 0.78648458, -1.8038838 ,  1.34238676, -0.46413113,  1.06559112,\n",
       "         2.54347667],\n",
       "       [ 0.50670746, -0.90996426,  0.0882538 , -0.27653322,  0.30772353,\n",
       "        -0.26694383],\n",
       "       [-0.61240104,  0.94663788,  0.92434244,  2.47490285, -1.54575699,\n",
       "        -0.96658438],\n",
       "       [ 0.22693033,  0.53405963, -0.74783484,  1.34931536, -0.92793015,\n",
       "        -0.94286775],\n",
       "       [ 0.22693033, -0.70367513,  1.34238676, -0.46413113,  0.78550962,\n",
       "         0.76472952],\n",
       "       [-2.01128666, -0.42862296, -3.67414506,  0.78652162, -1.61989621,\n",
       "        -0.96658438],\n",
       "       [-1.45173241, -0.29109688,  0.92434244,  0.34879316, -0.7878894 ,\n",
       "        -0.91915112],\n",
       "       [ 0.22693033, -0.70367513,  0.92434244, -0.46413113,  0.78550962,\n",
       "         0.65800469],\n",
       "       [ 0.50670746, -1.46006859,  0.50629812, -0.33906586,  0.60428041,\n",
       "         0.23110537],\n",
       "       [ 1.0662617 ,  0.05271833, -1.58392347, -0.46413113,  0.53014119,\n",
       "        -0.31437709],\n",
       "       [ 0.50670746, -1.18501642,  0.0882538 , -0.46413113,  0.91731268,\n",
       "         2.17586893],\n",
       "       [ 1.0662617 , -1.25377947, -0.74783484, -0.46413113,  0.95026344,\n",
       "         1.1679122 ],\n",
       "       [-0.61240104,  1.152927  , -0.32979052, -0.33906586, -1.71051081,\n",
       "        -0.97844269],\n",
       "       [ 0.22693033,  1.08416396, -0.32979052,  3.60049033, -1.35629009,\n",
       "        -0.96658438],\n",
       "       [-0.89217816,  1.22169005, -0.32979052, -0.46413113, -0.14534948,\n",
       "        -0.87171786],\n",
       "       [-1.73150953,  0.25900746,  1.34238676, -0.4015985 , -0.23596409,\n",
       "        -0.78870966],\n",
       "       [-1.73150953,  1.6342683 ,  0.50629812, -0.02640267, -2.27067381,\n",
       "        -0.97844269],\n",
       "       [ 0.22693033, -1.04749034,  1.34238676, -0.46413113,  0.91731268,\n",
       "         2.67391813],\n",
       "       [-0.89217816,  0.60282267, -0.32979052, -0.46413113, -0.1288741 ,\n",
       "        -0.89543449],\n",
       "       [-0.05284679,  0.46529658, -2.00196779,  4.97620836, -1.27391318,\n",
       "        -0.96658438],\n",
       "       [ 0.78648458, -0.84120121,  0.0882538 ,  0.72398899,  0.11001894,\n",
       "        -0.64640989],\n",
       "       [-1.45173241,  1.35921613,  0.50629812, -0.46413113,  0.10178125,\n",
       "        -0.71755978],\n",
       "       [ 0.50670746, -0.77243817,  0.92434244, -0.33906586,  0.38186275,\n",
       "        -0.30251878],\n",
       "       [ 1.0662617 , -1.25377947, -0.32979052, -0.46413113,  1.09854188,\n",
       "         2.10471904],\n",
       "       [-0.33262391, -0.29109688, -0.74783484, -0.46413113,  0.63723118,\n",
       "         0.14809717],\n",
       "       [-0.89217816,  0.19024442, -1.16587915,  2.09970702, -1.22448703,\n",
       "        -0.96658438],\n",
       "       [ 0.50670746,  0.19024442, -2.00196779, -0.33906586, -0.21948871,\n",
       "        -0.89543449],\n",
       "       [-0.33262391, -0.497386  ,  1.34238676, -0.46413113,  0.86788653,\n",
       "         1.99799421],\n",
       "       [ 0.78648458,  1.08416396,  0.0882538 , -0.46413113,  0.41481352,\n",
       "         0.43269671],\n",
       "       [-0.05284679,  0.87787484,  0.0882538 , -0.46413113,  0.42305121,\n",
       "         0.06508897],\n",
       "       [ 1.0662617 , -0.15357079, -0.32979052, -0.46413113,  0.70313271,\n",
       "         1.13233726],\n",
       "       [ 1.90559308, -1.46006859, -0.32979052, -0.46413113,  1.01616497,\n",
       "         0.5868548 ],\n",
       "       [-1.45173241,  2.18437264,  0.0882538 ,  2.28730493, -3.28390983,\n",
       "        -1.01401764],\n",
       "       [ 0.78648458,  1.77179438,  0.0882538 , -0.46413113,  0.22534662,\n",
       "         0.05323066],\n",
       "       [-0.89217816,  0.74034875,  0.0882538 , -0.33906586, -0.61489788,\n",
       "        -0.93100944],\n",
       "       [ 0.78648458, -0.77243817, -0.74783484, -0.46413113,  0.75255886,\n",
       "         0.12438054],\n",
       "       [ 0.78648458,  0.05271833,  0.50629812, -0.46413113,  0.65370656,\n",
       "         0.55127986],\n",
       "       [ 0.78648458, -0.35985992,  0.50629812, -0.46413113,  0.73608347,\n",
       "         1.03747075],\n",
       "       [ 0.50670746, -0.15357079,  0.92434244, -0.15146795, -0.06297257,\n",
       "        -0.31437709],\n",
       "       [-0.05284679,  0.60282267, -0.74783484, -0.46413113,  0.65370656,\n",
       "         0.61057143],\n",
       "       [ 0.22693033,  0.25900746,  0.50629812, -0.46413113,  0.58780503,\n",
       "         0.27853863],\n",
       "       [ 1.90559308, -0.9787273 , -2.00196779, -0.4015985 ,  0.90907499,\n",
       "         0.74101289],\n",
       "       [ 0.22693033,  0.05271833,  0.92434244, -0.4015985 ,  0.30772353,\n",
       "        -0.39738529],\n",
       "       [ 0.50670746,  0.05271833, -0.32979052, -0.46413113,  0.66194425,\n",
       "         0.78844615],\n",
       "       [ 1.0662617 , -0.01604471,  0.0882538 , -0.46413113,  0.68665733,\n",
       "         0.70543795],\n",
       "       [ 1.34603883, -1.39130555,  0.0882538 , -0.46413113,  1.05735343,\n",
       "         1.46437006],\n",
       "       [-1.17195528,  1.29045309,  0.0882538 ,  0.22372788, -1.76817465,\n",
       "        -0.97844269],\n",
       "       [ 0.50670746, -0.56614905,  1.34238676,  3.28782714, -0.01354643,\n",
       "        -0.65826821],\n",
       "       [ 0.22693033, -0.90996426,  0.0882538 ,  0.59892371, -0.10416103,\n",
       "        -0.75313472],\n",
       "       [ 0.22693033, -0.77243817, -1.16587915, -0.46413113,  0.95026344,\n",
       "         1.06118738],\n",
       "       [-0.89217816,  1.22169005, -0.74783484,  2.03717438, -2.08120691,\n",
       "        -0.99030101],\n",
       "       [-0.05284679,  0.53405963,  0.92434244,  0.22372788, -0.67256172,\n",
       "        -0.71755978],\n",
       "       [-0.05284679, -0.63491209, -0.32979052,  0.22372788, -0.21948871,\n",
       "        -0.87171786],\n",
       "       [-1.17195528,  1.70303134, -0.32979052,  0.78652162, -2.6578453 ,\n",
       "        -1.00215932],\n",
       "       [ 0.50670746,  0.87787484,  0.50629812, -0.46413113,  0.35714968,\n",
       "        -0.38552698],\n",
       "       [-1.17195528, -0.42862296,  1.76043107, -0.46413113,  0.62899349,\n",
       "         0.20738874],\n",
       "       [-0.89217816,  1.70303134,  0.0882538 , -0.46413113,  0.17592047,\n",
       "        -0.57526001],\n",
       "       [ 0.50670746,  0.05271833, -0.32979052, -0.21400058, -0.14534948,\n",
       "        -0.29066046],\n",
       "       [-1.17195528, -0.9787273 , -2.83805643, -0.4015985 ,  0.241822  ,\n",
       "        -0.34995203],\n",
       "       [ 0.50670746, -0.63491209, -0.74783484, -0.27653322,  0.241822  ,\n",
       "        -0.36181035],\n",
       "       [ 0.78648458, -0.08480775, -0.32979052, -0.46413113,  0.82669808,\n",
       "         2.08100241],\n",
       "       [ 0.78648458, -0.84120121,  0.50629812, -0.46413113,  0.84317346,\n",
       "         1.89126938],\n",
       "       [-2.5708409 ,  0.60282267,  0.0882538 , -0.33906586, -1.12563474,\n",
       "        -0.95472606],\n",
       "       [-0.33262391, -0.01604471, -0.32979052, -0.46413113,  0.4312889 ,\n",
       "        -0.43296023],\n",
       "       [ 1.34603883, -0.22233384, -0.32979052, -0.46413113, -0.21948871,\n",
       "        -0.91915112],\n",
       "       [ 1.62581595, -2.35398814,  0.92434244, -0.21400058,  0.9914519 ,\n",
       "         1.21534546],\n",
       "       [-0.05284679, -2.01017293, -0.74783484, -0.46413113,  1.06559112,\n",
       "         1.27463703],\n",
       "       [-1.45173241,  2.39066176,  0.0882538 , -0.46413113, -1.16682319,\n",
       "        -0.94286775],\n",
       "       [-1.45173241,  0.80911179,  1.76043107, -0.46413113, -0.45838175,\n",
       "        -0.91915112],\n",
       "       [-0.61240104,  1.08416396,  0.92434244, -0.46413113,  0.5219035 ,\n",
       "         0.9188876 ],\n",
       "       [-0.61240104,  1.152927  , -0.32979052, -0.46413113,  0.26653507,\n",
       "        -0.55154338]])"
      ]
     },
     "execution_count": 30,
     "metadata": {},
     "output_type": "execute_result"
    }
   ],
   "source": [
    "X_train_scaled"
   ]
  },
  {
   "cell_type": "code",
   "execution_count": 31,
   "metadata": {},
   "outputs": [
    {
     "data": {
      "image/png": "[encoded data removed]",
      "text/plain": [
       "<Figure size 1500x500 with 3 Axes>"
      ]
     },
     "metadata": {},
     "output_type": "display_data"
    }
   ],
   "source": [
    "plt.subplots(figsize=(15,5)) \n",
    "plt.subplot(1,2,1)\n",
    "sns.boxplot(data=X_train)\n",
    "plt.title('X_train Before Scaling')\n",
    "\n",
    "\n",
    "plt.subplot(1,2,2)\n",
    "sns.boxplot(data=X_train_scaled)\n",
    "plt.title('X_train After Scaling')\n",
    "plt.show()"
   ]
  },
  {
   "cell_type": "code",
   "execution_count": 32,
   "metadata": {},
   "outputs": [
    {
     "name": "stdout",
     "output_type": "stream",
     "text": [
      "Mean Squared Error :  0.07242554930931913\n",
      "R2 Score :  0.6836320323352014\n"
     ]
    }
   ],
   "source": [
    "# lets train the model\n",
    "from sklearn.linear_model import LinearRegression\n",
    "from sklearn.metrics import mean_squared_error\n",
    "from sklearn.metrics import r2_score\n",
    "\n",
    "model = LinearRegression()\n",
    "model.fit(X_train_scaled,y_train)\n",
    "y_pred = model.predict(X_test_scaled)\n",
    "mse = mean_squared_error(y_test,y_pred)\n",
    "score = r2_score(y_test,y_pred)\n",
    "print(\"Mean Squared Error : \",mse)\n",
    "print('R2 Score : ',score)\n"
   ]
  },
  {
   "cell_type": "code",
   "execution_count": 33,
   "metadata": {},
   "outputs": [
    {
     "name": "stdout",
     "output_type": "stream",
     "text": [
      "Mean Absolute Error :  0.4580645161290323\n",
      "R2 Score :  -2.24466891185493e-06\n"
     ]
    },
    {
     "data": {
      "text/plain": [
       "<matplotlib.collections.PathCollection at 0x1d9e336f6b0>"
      ]
     },
     "execution_count": 33,
     "metadata": {},
     "output_type": "execute_result"
    },
    {
     "data": {
      "image/png": "[encoded data removed]",
      "text/plain": [
       "<Figure size 640x480 with 1 Axes>"
      ]
     },
     "metadata": {},
     "output_type": "display_data"
    }
   ],
   "source": [
    "from sklearn.linear_model import Lasso\n",
    "from sklearn.metrics import mean_absolute_error\n",
    "from sklearn.metrics import r2_score\n",
    "lasso=Lasso()\n",
    "lasso.fit(X_train_scaled,y_train)\n",
    "y_pred = lasso.predict(X_test_scaled)\n",
    "mae = mean_absolute_error(y_test,y_pred)\n",
    "score = r2_score(y_test,y_pred)\n",
    "print(\"Mean Absolute Error : \",mae)\n",
    "print('R2 Score : ',score)\n",
    "plt.scatter(y_test,y_pred)"
   ]
  },
  {
   "cell_type": "code",
   "execution_count": 34,
   "metadata": {},
   "outputs": [
    {
     "name": "stdout",
     "output_type": "stream",
     "text": [
      "Mean Absolute Error :  0.4580645161290323\n",
      "R2 Score :  -2.24466891185493e-06\n"
     ]
    },
    {
     "data": {
      "text/plain": [
       "<matplotlib.collections.PathCollection at 0x1d9e32e76e0>"
      ]
     },
     "execution_count": 34,
     "metadata": {},
     "output_type": "execute_result"
    },
    {
     "data": {
      "image/png": "[encoded data removed]",
      "text/plain": [
       "<Figure size 640x480 with 1 Axes>"
      ]
     },
     "metadata": {},
     "output_type": "display_data"
    }
   ],
   "source": [
    "from sklearn.linear_model import Lasso\n",
    "from sklearn.metrics import mean_absolute_error\n",
    "from sklearn.metrics import r2_score\n",
    "lasso=Lasso()\n",
    "lasso.fit(X_train_scaled,y_train)\n",
    "y_pred = lasso.predict(X_test_scaled)\n",
    "mae = mean_absolute_error(y_test,y_pred)\n",
    "score = r2_score(y_test,y_pred)\n",
    "print(\"Mean Absolute Error : \",mae)\n",
    "print('R2 Score : ',score)\n",
    "plt.scatter(y_test,y_pred)"
   ]
  },
  {
   "cell_type": "code",
   "execution_count": 35,
   "metadata": {},
   "outputs": [
    {
     "name": "stdout",
     "output_type": "stream",
     "text": [
      "Mean Absolute Error: 0.030645161290322583\n",
      "R2 Score: 0.9330822727272727\n"
     ]
    }
   ],
   "source": [
    "from sklearn.ensemble import RandomForestRegressor\n",
    "from sklearn.metrics import mean_absolute_error, r2_score\n",
    "\n",
    "rf = RandomForestRegressor(n_estimators=100, random_state=42)\n",
    "rf.fit(X_train, y_train)\n",
    "\n",
    "y_pred = rf.predict(X_test)\n",
    "\n",
    "# Performance Check\n",
    "mae = mean_absolute_error(y_test, y_pred)\n",
    "r2 = r2_score(y_test, y_pred)\n",
    "\n",
    "print(\"Mean Absolute Error:\", mae)\n",
    "print(\"R2 Score:\", r2)\n"
   ]
  },
  {
   "cell_type": "code",
   "execution_count": 36,
   "metadata": {},
   "outputs": [
    {
     "name": "stdout",
     "output_type": "stream",
     "text": [
      "Best Parameters: {'max_depth': 20, 'n_estimators': 100}\n"
     ]
    }
   ],
   "source": [
    "from sklearn.model_selection import GridSearchCV\n",
    "\n",
    "param_grid = {\n",
    "    'n_estimators': [100, 200, 300],\n",
    "    'max_depth': [None, 10, 20, 30]\n",
    "}\n",
    "\n",
    "grid_search = GridSearchCV(RandomForestRegressor(), param_grid, cv=5, scoring='r2')\n",
    "grid_search.fit(X_train, y_train)\n",
    "\n",
    "print(\"Best Parameters:\", grid_search.best_params_)\n"
   ]
  },
  {
   "cell_type": "code",
   "execution_count": 37,
   "metadata": {},
   "outputs": [
    {
     "name": "stdout",
     "output_type": "stream",
     "text": [
      "Mean Absolute Error: 0.030645161290322583\n",
      "R2 Score: 0.9330822727272727\n"
     ]
    },
    {
     "data": {
      "text/plain": [
       "<matplotlib.collections.PathCollection at 0x1d9e3589880>"
      ]
     },
     "execution_count": 37,
     "metadata": {},
     "output_type": "execute_result"
    },
    {
     "data": {
      "image/png": "[encoded data removed]",
      "text/plain": [
       "<Figure size 640x480 with 1 Axes>"
      ]
     },
     "metadata": {},
     "output_type": "display_data"
    }
   ],
   "source": [
    "from sklearn.ensemble import RandomForestRegressor\n",
    "from sklearn.metrics import mean_absolute_error, r2_score\n",
    "\n",
    "rf = RandomForestRegressor(n_estimators=100, random_state=42)\n",
    "rf.fit(X_train, y_train)\n",
    "\n",
    "y_pred = rf.predict(X_test)\n",
    "\n",
    "# Performance Check\n",
    "mae = mean_absolute_error(y_test, y_pred)\n",
    "r2 = r2_score(y_test, y_pred)\n",
    "\n",
    "print(\"Mean Absolute Error:\", mae)\n",
    "print(\"R2 Score:\", r2)\n",
    "plt.scatter(y_test,y_pred)"
   ]
  },
  {
   "cell_type": "code",
   "execution_count": 38,
   "metadata": {},
   "outputs": [
    {
     "name": "stdout",
     "output_type": "stream",
     "text": [
      "🔹 Mean Absolute Error (XGBoost): 9.217959896270787e-05\n",
      "🔹 R² Score (XGBoost): 0.9999999403953552\n"
     ]
    }
   ],
   "source": [
    "from xgboost import XGBRegressor\n",
    "from sklearn.metrics import mean_absolute_error, r2_score\n",
    "\n",
    "# XGBoost Model Banayein\n",
    "xgb = XGBRegressor(n_estimators=100, learning_rate=0.1, max_depth=5, random_state=42)\n",
    "\n",
    "# Model Train Karein\n",
    "xgb.fit(X_train, y_train)\n",
    "\n",
    "# Predictions Nikalein\n",
    "y_pred_xgb = xgb.predict(X_test)\n",
    "\n",
    "# Model Evaluate Karein\n",
    "mae_xgb = mean_absolute_error(y_test, y_pred_xgb)\n",
    "r2_xgb = r2_score(y_test, y_pred_xgb)\n",
    "\n",
    "print(\"🔹 Mean Absolute Error (XGBoost):\", mae_xgb)\n",
    "print(\"🔹 R² Score (XGBoost):\", r2_xgb)\n"
   ]
  },
  {
   "cell_type": "code",
   "execution_count": 39,
   "metadata": {},
   "outputs": [
    {
     "name": "stdout",
     "output_type": "stream",
     "text": [
      "🔹 Train R² Score: 0.9999999403953552\n",
      "🔹 Test R² Score: 0.9999999403953552\n"
     ]
    }
   ],
   "source": [
    "# training vs testing data \n",
    "train_pred = xgb.predict(X_train)\n",
    "train_r2 = r2_score(y_train, train_pred)\n",
    "test_r2 = r2_score(y_test, y_pred_xgb)\n",
    "\n",
    "print(\"🔹 Train R² Score:\", train_r2)\n",
    "print(\"🔹 Test R² Score:\", test_r2)\n"
   ]
  },
  {
   "cell_type": "code",
   "execution_count": 44,
   "metadata": {},
   "outputs": [
    {
     "name": "stdout",
     "output_type": "stream",
     "text": [
      "🔹 Cross-Validation R² Scores: [0.99999994 0.99999994 0.99999994 0.4463169  0.99999994]\n",
      "🔹 Mean CV R² Score: 0.8892633318901062\n"
     ]
    }
   ],
   "source": [
    "from sklearn.model_selection import cross_val_score\n",
    "\n",
    "cv_scores = cross_val_score(xgb, X_train, y_train, cv=5, scoring='r2')\n",
    "print(\"🔹 Cross-Validation R² Scores:\", cv_scores)\n",
    "print(\"🔹 Mean CV R² Score:\", cv_scores.mean())\n",
    "\n",
    "\n"
   ]
  },
  {
   "cell_type": "code",
   "execution_count": 50,
   "metadata": {},
   "outputs": [
    {
     "data": {
      "image/png": "[encoded data removed]",
      "text/plain": [
       "<Figure size 640x480 with 1 Axes>"
      ]
     },
     "metadata": {},
     "output_type": "display_data"
    }
   ],
   "source": [
    "plt.Figure(figsize=(10,5))\n",
    "sns.histplot(y_train,label='Train Data', kde=True,color='green')\n",
    "sns.histplot(y_test,label='Test data ',kde=False,color='red')\n",
    "plt.legend()\n",
    "plt.title(\"Train vs Test Data Distribution\")\n",
    "plt.show()"
   ]
  },
  {
   "cell_type": "code",
   "execution_count": null,
   "metadata": {},
   "outputs": [
    {
     "name": "stdout",
     "output_type": "stream",
     "text": [
      "🔹 Cross-Validation R² Scores: [0.99999994 0.99999994 0.99999994 0.43765134 0.99999994]\n",
      "Mean Stratified CV R2 score 0.8875302195549011\n"
     ]
    }
   ],
   "source": [
    "from sklearn.model_selection import KFold , cross_val_score\n",
    "\n",
    "skf = KFold(n_splits=5,shuffle=True,random_state=42)\n",
    "cv_scores = cross_val_score(xgb, X_train, y_train, cv=skf, scoring='r2')\n",
    "print(\"🔹 Cross-Validation R² Scores:\", cv_scores)\n",
    "print(\"Mean Stratified CV R2 score\",cv_scores.mean())\n",
    "\n",
    "\n",
    "\n"
   ]
  },
  {
   "cell_type": "code",
   "execution_count": 56,
   "metadata": {},
   "outputs": [
    {
     "name": "stdout",
     "output_type": "stream",
     "text": [
      "🔹 Balanced Class Distribution: {1: 58, 0: 58}\n"
     ]
    }
   ],
   "source": [
    "from imblearn.over_sampling import SMOTE\n",
    "\n",
    "smote = SMOTE(random_state=42)\n",
    "X_train_bal, y_train_bal = smote.fit_resample(X_train, y_train)\n",
    "\n",
    "print(\"🔹 Balanced Class Distribution:\", dict(pd.Series(y_train_bal).value_counts()))\n"
   ]
  },
  {
   "cell_type": "code",
   "execution_count": null,
   "metadata": {},
   "outputs": [],
   "source": []
  }
 ],
 "metadata": {
  "kernelspec": {
   "display_name": "base",
   "language": "python",
   "name": "python3"
  },
  "language_info": {
   "codemirror_mode": {
    "name": "ipython",
    "version": 3
   },
   "file_extension": ".py",
   "mimetype": "text/x-python",
   "name": "python",
   "nbconvert_exporter": "python",
   "pygments_lexer": "ipython3",
   "version": "3.12.7"
  }
 },
 "nbformat": 4,
 "nbformat_minor": 2
}
